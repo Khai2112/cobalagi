{
  "nbformat": 4,
  "nbformat_minor": 0,
  "metadata": {
    "kernelspec": {
      "display_name": "Python 3",
      "language": "python",
      "name": "python3"
    },
    "language_info": {
      "codemirror_mode": {
        "name": "ipython",
        "version": 3
      },
      "file_extension": ".py",
      "mimetype": "text/x-python",
      "name": "python",
      "nbconvert_exporter": "python",
      "pygments_lexer": "ipython3",
      "version": "3.8.8"
    },
    "colab": {
      "name": "Copy of Try_25okt_chatbot.ipynb",
      "provenance": [],
      "collapsed_sections": [],
      "include_colab_link": true
    }
  },
  "cells": [
    {
      "cell_type": "markdown",
      "metadata": {
        "id": "view-in-github",
        "colab_type": "text"
      },
      "source": [
        "<a href=\"https://colab.research.google.com/github/Khai2112/cobalagi/blob/main/Copy_of_Try_25okt_chatbot.ipynb\" target=\"_parent\"><img src=\"https://colab.research.google.com/assets/colab-badge.svg\" alt=\"Open In Colab\"/></a>"
      ]
    },
    {
      "cell_type": "markdown",
      "metadata": {
        "id": "za1gVNL5CRGY"
      },
      "source": [
        "# AI Chatbot in Python\n",
        "> Chatbot sederhana ini menggunakan konsep sederhana penerapan Cosine Similarity\n",
        "\n",
        "> Disini program Chatbot dibuat dengan sesuai kebutuhan pengguna, jadi kita bisa memilih apakah harus membuat program ini bisa bekerja pada topik tertentu, misalnya untuk Chatbot berbasis Covid-19, atau yang lainnya yang sedang relevan."
      ]
    },
    {
      "cell_type": "code",
      "metadata": {
        "id": "ye3nyhSyCRGi",
        "colab": {
          "base_uri": "https://localhost:8080/"
        },
        "outputId": "23e8e2a4-5283-4e0a-d66e-a0135c185111"
      },
      "source": [
        "!pip install newspaper3k"
      ],
      "execution_count": null,
      "outputs": [
        {
          "output_type": "stream",
          "name": "stdout",
          "text": [
            "Requirement already satisfied: newspaper3k in /usr/local/lib/python3.7/dist-packages (0.2.8)\n",
            "Requirement already satisfied: PyYAML>=3.11 in /usr/local/lib/python3.7/dist-packages (from newspaper3k) (3.13)\n",
            "Requirement already satisfied: tldextract>=2.0.1 in /usr/local/lib/python3.7/dist-packages (from newspaper3k) (3.1.2)\n",
            "Requirement already satisfied: cssselect>=0.9.2 in /usr/local/lib/python3.7/dist-packages (from newspaper3k) (1.1.0)\n",
            "Requirement already satisfied: beautifulsoup4>=4.4.1 in /usr/local/lib/python3.7/dist-packages (from newspaper3k) (4.6.3)\n",
            "Requirement already satisfied: nltk>=3.2.1 in /usr/local/lib/python3.7/dist-packages (from newspaper3k) (3.2.5)\n",
            "Requirement already satisfied: jieba3k>=0.35.1 in /usr/local/lib/python3.7/dist-packages (from newspaper3k) (0.35.1)\n",
            "Requirement already satisfied: lxml>=3.6.0 in /usr/local/lib/python3.7/dist-packages (from newspaper3k) (4.2.6)\n",
            "Requirement already satisfied: tinysegmenter==0.3 in /usr/local/lib/python3.7/dist-packages (from newspaper3k) (0.3)\n",
            "Requirement already satisfied: feedparser>=5.2.1 in /usr/local/lib/python3.7/dist-packages (from newspaper3k) (6.0.8)\n",
            "Requirement already satisfied: python-dateutil>=2.5.3 in /usr/local/lib/python3.7/dist-packages (from newspaper3k) (2.8.2)\n",
            "Requirement already satisfied: Pillow>=3.3.0 in /usr/local/lib/python3.7/dist-packages (from newspaper3k) (7.1.2)\n",
            "Requirement already satisfied: feedfinder2>=0.0.4 in /usr/local/lib/python3.7/dist-packages (from newspaper3k) (0.0.4)\n",
            "Requirement already satisfied: requests>=2.10.0 in /usr/local/lib/python3.7/dist-packages (from newspaper3k) (2.23.0)\n",
            "Requirement already satisfied: six in /usr/local/lib/python3.7/dist-packages (from feedfinder2>=0.0.4->newspaper3k) (1.15.0)\n",
            "Requirement already satisfied: sgmllib3k in /usr/local/lib/python3.7/dist-packages (from feedparser>=5.2.1->newspaper3k) (1.0.0)\n",
            "Requirement already satisfied: certifi>=2017.4.17 in /usr/local/lib/python3.7/dist-packages (from requests>=2.10.0->newspaper3k) (2021.5.30)\n",
            "Requirement already satisfied: urllib3!=1.25.0,!=1.25.1,<1.26,>=1.21.1 in /usr/local/lib/python3.7/dist-packages (from requests>=2.10.0->newspaper3k) (1.24.3)\n",
            "Requirement already satisfied: chardet<4,>=3.0.2 in /usr/local/lib/python3.7/dist-packages (from requests>=2.10.0->newspaper3k) (3.0.4)\n",
            "Requirement already satisfied: idna<3,>=2.5 in /usr/local/lib/python3.7/dist-packages (from requests>=2.10.0->newspaper3k) (2.10)\n",
            "Requirement already satisfied: filelock>=3.0.8 in /usr/local/lib/python3.7/dist-packages (from tldextract>=2.0.1->newspaper3k) (3.3.0)\n",
            "Requirement already satisfied: requests-file>=1.4 in /usr/local/lib/python3.7/dist-packages (from tldextract>=2.0.1->newspaper3k) (1.5.1)\n"
          ]
        }
      ]
    },
    {
      "cell_type": "markdown",
      "metadata": {
        "id": "doOw6qeEZx6w"
      },
      "source": [
        ""
      ]
    },
    {
      "cell_type": "code",
      "metadata": {
        "id": "4FGmgeEECRGi"
      },
      "source": [
        "# Import library\n",
        "from newspaper import Article\n",
        "import random\n",
        "import nltk\n",
        "import string\n",
        "from sklearn.feature_extraction.text import CountVectorizer\n",
        "from sklearn.metrics.pairwise import cosine_similarity\n",
        "import numpy as np\n",
        "import warnings\n",
        "warnings.filterwarnings('ignore')"
      ],
      "execution_count": null,
      "outputs": []
    },
    {
      "cell_type": "code",
      "metadata": {
        "colab": {
          "base_uri": "https://localhost:8080/"
        },
        "id": "Nx64WXuHDnP4",
        "outputId": "939b69b0-24b5-454e-e5c7-61f3b19cd6c2"
      },
      "source": [
        "!pip install Sastrawi"
      ],
      "execution_count": null,
      "outputs": [
        {
          "output_type": "stream",
          "name": "stdout",
          "text": [
            "Requirement already satisfied: Sastrawi in /usr/local/lib/python3.7/dist-packages (1.0.1)\n"
          ]
        }
      ]
    },
    {
      "cell_type": "code",
      "metadata": {
        "id": "Sa8BD2nwCRGj",
        "colab": {
          "base_uri": "https://localhost:8080/"
        },
        "outputId": "2cdedd0b-f296-412d-afcb-366859030c6c"
      },
      "source": [
        "nltk.download('punkt', quiet=True)"
      ],
      "execution_count": null,
      "outputs": [
        {
          "output_type": "execute_result",
          "data": {
            "text/plain": [
              "True"
            ]
          },
          "metadata": {},
          "execution_count": 4
        }
      ]
    },
    {
      "cell_type": "markdown",
      "metadata": {
        "id": "pg6qCAflDsZx"
      },
      "source": [
        ""
      ]
    },
    {
      "cell_type": "code",
      "metadata": {
        "id": "WWdOizj-CRGp"
      },
      "source": [
        "#buat pertanyaan pada kolom diatas seperti : what is chronic kidney disease?, dll."
      ],
      "execution_count": null,
      "outputs": []
    },
    {
      "cell_type": "markdown",
      "metadata": {
        "id": "zJ5gxzVCgftf"
      },
      "source": [
        "##input link\n",
        "link terbaru atau ter update tentang transaksi syariah\n",
        "seperti"
      ]
    },
    {
      "cell_type": "code",
      "metadata": {
        "id": "FYT3-ERtgjjS",
        "colab": {
          "base_uri": "https://localhost:8080/"
        },
        "outputId": "186db1e7-edcb-4a51-91d8-da6d511671a7"
      },
      "source": [
        "article = Article('https://www.ocbcnisp.com/id/article/2021/09/27/investasi-syariah')\n",
        "article.download()\n",
        "article.parse()\n",
        "article.nlp()\n",
        "corpus = article.text\n",
        "print(corpus)"
      ],
      "execution_count": null,
      "outputs": [
        {
          "output_type": "stream",
          "name": "stdout",
          "text": [
            "Ingin investasi nyaman dan berkah? Coba saja investasi syariah.\n",
            "\n",
            "Ekonomi syariah di Indonesia menunjukkan potensi yang semakin baik. Hal ini dibuktikan dengan bertambah tingginya minat masyarakat terhadap produk investasi syariah dari tahun ke tahun. Memiliki sistem yang berbeda dengan konvensional, investasi tersebut dilakukan dengan dasar dan ajaran agama Islam.\n",
            "\n",
            "Selain mendapatkan keuntungan, praktek ekonomi ini memberikan ketenangan dan keberkahan tanpa melanggar ajaran agama. Namun, sama halnya dengan konvensional, investasi syariah memiliki bermacam-macam jenis instrumen yang bisa Anda pilih. Penasaran? Yuk simak artikel berikut ini.\n",
            "\n",
            "Pengertian Investasi Syariah\n",
            "\n",
            "Investasi syariah adalah salah satu cara penanaman modal dengan tujuan meraih keuntungan sesuai syariah islam. Prinsip hukum dan landasan operasional investasi ini bersumber dari Al-Qur’an, hadist, dan Fatwa Dewan Syariah Nasional (DSN) MUI.\n",
            "\n",
            "Perbedaan Investasi Syariah dan Konvensional\n",
            "\n",
            "Investasi ini memiliki karakteristik yang membedakannya dari investasi konvensional. Berikut beberapa perbedaannya.\n",
            "\n",
            "Menggunakan Sistem Bagi Hasil\n",
            "\n",
            "Manajer investasi akan memberikan keuntungan melalui skema bagi hasil dengan rasio sesuai akad dan perjanjian. Besarnya return terhadap kontrak investasi berbeda-beda tergantung pada kondisi bisnis investasi syariah yang dijalankan.\n",
            "\n",
            "Ada Kesepakatan Untung dan Rugi\n",
            "\n",
            "Tak hanya menyepakati persentase keuntungan, akad investasi juga bersepakat mengenai kerugian. Dengan demikian, investor bisa mengetahui persentase kerugian yang harus Ia tanggung ketika usahanya merugi.\n",
            "\n",
            "Sesuai dengan Syariat Islam\n",
            "\n",
            "Investasi adalah kegiatan beresiko karena penuh dengan ketidakpastian. Oleh karena itu, Islam memberi mekanisme syariah untuk menghindari riba, gharar (ketidakjelasan), dan maysir (judi) melalui kejelasan aliran dana dan pembagian untung-rugi dalam akad.\n",
            "\n",
            "Syarat Investasi Syariah\n",
            "\n",
            "Agar dapat dikategorikan sebagai investasi syariah, suatu skema investasi harus memenuhi syarat-syarat sebagai berikut.\n",
            "\n",
            "Objek Investasi Halal\n",
            "\n",
            "Manajer investasi hanya boleh menempatkan dana investor pada bisnis-bisnis halal. Hal ini karena Islam melarang investasi terhadap bisnis non-halal seperti perusahaan minuman keras, daging babi, narkoba, dan sebagainya.\n",
            "\n",
            "Pengecekan dan Pembersihan Keuntungan\n",
            "\n",
            "Secara berkala, bank syariah melakukan pengecekan pada tiap bisnis yang didanai apakah masih beroperasi sesuai syariah Islam atau tidak. Dengan demikian, bank dapat memastikan bahwa keuntungan yang diperoleh benar-benar “bersih”.\n",
            "\n",
            "Disertai Akad Mudharabah dan Wakalah bil Ujrah\n",
            "\n",
            "Akad mudharabah berkaitan dengan pembagian untung-rugi sedangkan akad wakalah bil ujrah berkaitan dengan pelimpahan kekuasaan yang diberikan investor kepada manajer investasi untuk mengelola dananya sesuai syariah islam.\n",
            "\n",
            "Jenis Investasi Syariah\n",
            "\n",
            "Sebelum berinvestasi, Anda perlu menentukan produk investasi syariah yang sesuai dengan kebutuhan dan kondisi keuangan Anda. Berikut ini jenis-jenis yang dapat Anda pilih.\n",
            "\n",
            "Reksa Dana Syariah\n",
            "\n",
            "Reksadana syariah merupakan jenis investasi yang dikelola oleh manajer investasi dalam bentuk produk pasar uang, obligasi, atau saham dan harus sesuai dengan prinsip Islam. Harga reksadana cukup beragam, bahkan Anda bisa memulainya dari Rp100 ribu saja, sehingga cocok untuk pemula dengan modal kecil.\n",
            "\n",
            "Sukuk\n",
            "\n",
            "Sukuk adalah obligasi berupa efek berbentuk sekuritas aset dengan skema pengelolaan berdasarkan syariah Islam. Sukuk dibedakan menjadi sukuk negara yang diterbitkan oleh pemerintah dan sukuk korporasi yang diterbitkan oleh perusahaan swasta maupun BUMN.\n",
            "\n",
            "Saham Syariah\n",
            "\n",
            "Saham syariah dikenal sebagai salah satu investasi yang paling menguntungkan. Jenis investasi ini menerapkan konsep musyarakah, yakni penyertaan modal dengan bagi hasil untuk pihak yang terlibat. Oleh karena itu, dalam pengelolaannya tidak terdapat unsur riba.\n",
            "\n",
            "Deposito Syariah\n",
            "\n",
            "Deposito syariah merupakan produk simpanan berjangka yang dikelola dengan prinsip syariah. Instrumen ini menempatkan nasabah sebagai pemilik sekaligus pengelola dana. Nantinya, pembagian keuntungan ditentukan melalui akad mudharabah.\n",
            "\n",
            "Properti atau Tanah\n",
            "\n",
            "Properti dan tanah merupakan contoh investasi syariah yang paling menguntungkan karena harganya cenderung naik setiap tahun. Sebelum memilih aset, perhatikan lokasi, akses, dan resiko bencana karena akan berpengaruh pada stabilitas harga.\n",
            "\n",
            "Cara Perhitungan Bagi Hasil Investasi Syariah\n",
            "\n",
            "Dalam memudahkan Anda memahami tentang investasi ini, berikut contoh cara perhitungan bagi hasil pada instrumen saham syariah.\n",
            "\n",
            "Contoh\n",
            "\n",
            "Ali membeli saham milik PT. A sebesar Rp5.000.000 dengan harga per lot Rp10.000. Maka Ali memiliki 500 lot saham. Apabila Ali membeli dengan jumlah yang sama per bulan, maka dalam satu tahun Ali memiliki 6000 lot saham. Dalam kurun waktu satu tahun, harga saham PT. A naik menjadi Rp11.000 per lot.\n",
            "\n",
            "Dalam perhitungan ini, jumlah keuntungan akan dipengaruhi oleh biaya online trading sebesar 0,1%, pajak penjualan sebesar 0,1%, dan pajak dividen sebesar 10%. Berikut langkah-langkah perhitungannya.\n",
            "\n",
            "Totalkan lebih dulu harga per lot dengan jumlah lot yang dimiliki\n",
            "\n",
            "Rp11.000 X 6000 = Rp66.000.000 Kemudian tambahkan dengan dividen yang diterima, misalnya Rp500 ribu.\n",
            "\n",
            "Rp66.000.000 + Rp500.000 = Rp66.500.000 Nominal ini lalu dikurangi dengan biaya trading, pajak penghasilan dan pajak dividen Keuntungan\n",
            "\n",
            "= Rp66.500.000 – 0,1% - 0,1%- 10%\n",
            "\n",
            "= Rp66.500.000 – (0.2%x Rp60.000.000)- (10% x Rp500.000)\n",
            "\n",
            "= Rp66.500.000 - Rp120.000 - Rp50.000\n",
            "\n",
            "= Rp66.330.000\n",
            "\n",
            "Maka, keuntungan yang Anda dapatkan sebesar Rp66.330.000 – Rp60.000.000 (harga saham semula) yaitu Rp 6.330.000.\n",
            "\n",
            "Itulah penjelasan OCBC NISP tentang pengertian, jenis-jenis, syarat serta perbedaan investasi syariah dan konvensional. Setelah memahaminya, jangan ragu memulai investasi berikut sekarang juga dengan Deposito Syariah OCBC NISP untuk kelola keuangan berprinsip syariah.\n",
            "\n",
            "Baca Juga:\n"
          ]
        }
      ]
    },
    {
      "cell_type": "code",
      "metadata": {
        "colab": {
          "base_uri": "https://localhost:8080/"
        },
        "id": "ct1iq7RXWeeD",
        "outputId": "f76fdfdb-56e4-464e-fd00-fc84dd28dd7c"
      },
      "source": [
        "article = Article('https://www.ocbcnisp.com/id/article/2021/09/27/investasi-syariah')\n",
        "article.download()\n",
        "article.parse()\n",
        "article.nlp()\n",
        "corpus = article.text\n",
        "print(corpus)"
      ],
      "execution_count": null,
      "outputs": [
        {
          "output_type": "stream",
          "name": "stdout",
          "text": [
            "Ingin investasi nyaman dan berkah? Coba saja investasi syariah.\n",
            "\n",
            "Ekonomi syariah di Indonesia menunjukkan potensi yang semakin baik. Hal ini dibuktikan dengan bertambah tingginya minat masyarakat terhadap produk investasi syariah dari tahun ke tahun. Memiliki sistem yang berbeda dengan konvensional, investasi tersebut dilakukan dengan dasar dan ajaran agama Islam.\n",
            "\n",
            "Selain mendapatkan keuntungan, praktek ekonomi ini memberikan ketenangan dan keberkahan tanpa melanggar ajaran agama. Namun, sama halnya dengan konvensional, investasi syariah memiliki bermacam-macam jenis instrumen yang bisa Anda pilih. Penasaran? Yuk simak artikel berikut ini.\n",
            "\n",
            "Pengertian Investasi Syariah\n",
            "\n",
            "Investasi syariah adalah salah satu cara penanaman modal dengan tujuan meraih keuntungan sesuai syariah islam. Prinsip hukum dan landasan operasional investasi ini bersumber dari Al-Qur’an, hadist, dan Fatwa Dewan Syariah Nasional (DSN) MUI.\n",
            "\n",
            "Perbedaan Investasi Syariah dan Konvensional\n",
            "\n",
            "Investasi ini memiliki karakteristik yang membedakannya dari investasi konvensional. Berikut beberapa perbedaannya.\n",
            "\n",
            "Menggunakan Sistem Bagi Hasil\n",
            "\n",
            "Manajer investasi akan memberikan keuntungan melalui skema bagi hasil dengan rasio sesuai akad dan perjanjian. Besarnya return terhadap kontrak investasi berbeda-beda tergantung pada kondisi bisnis investasi syariah yang dijalankan.\n",
            "\n",
            "Ada Kesepakatan Untung dan Rugi\n",
            "\n",
            "Tak hanya menyepakati persentase keuntungan, akad investasi juga bersepakat mengenai kerugian. Dengan demikian, investor bisa mengetahui persentase kerugian yang harus Ia tanggung ketika usahanya merugi.\n",
            "\n",
            "Sesuai dengan Syariat Islam\n",
            "\n",
            "Investasi adalah kegiatan beresiko karena penuh dengan ketidakpastian. Oleh karena itu, Islam memberi mekanisme syariah untuk menghindari riba, gharar (ketidakjelasan), dan maysir (judi) melalui kejelasan aliran dana dan pembagian untung-rugi dalam akad.\n",
            "\n",
            "Syarat Investasi Syariah\n",
            "\n",
            "Agar dapat dikategorikan sebagai investasi syariah, suatu skema investasi harus memenuhi syarat-syarat sebagai berikut.\n",
            "\n",
            "Objek Investasi Halal\n",
            "\n",
            "Manajer investasi hanya boleh menempatkan dana investor pada bisnis-bisnis halal. Hal ini karena Islam melarang investasi terhadap bisnis non-halal seperti perusahaan minuman keras, daging babi, narkoba, dan sebagainya.\n",
            "\n",
            "Pengecekan dan Pembersihan Keuntungan\n",
            "\n",
            "Secara berkala, bank syariah melakukan pengecekan pada tiap bisnis yang didanai apakah masih beroperasi sesuai syariah Islam atau tidak. Dengan demikian, bank dapat memastikan bahwa keuntungan yang diperoleh benar-benar “bersih”.\n",
            "\n",
            "Disertai Akad Mudharabah dan Wakalah bil Ujrah\n",
            "\n",
            "Akad mudharabah berkaitan dengan pembagian untung-rugi sedangkan akad wakalah bil ujrah berkaitan dengan pelimpahan kekuasaan yang diberikan investor kepada manajer investasi untuk mengelola dananya sesuai syariah islam.\n",
            "\n",
            "Jenis Investasi Syariah\n",
            "\n",
            "Sebelum berinvestasi, Anda perlu menentukan produk investasi syariah yang sesuai dengan kebutuhan dan kondisi keuangan Anda. Berikut ini jenis-jenis yang dapat Anda pilih.\n",
            "\n",
            "Reksa Dana Syariah\n",
            "\n",
            "Reksadana syariah merupakan jenis investasi yang dikelola oleh manajer investasi dalam bentuk produk pasar uang, obligasi, atau saham dan harus sesuai dengan prinsip Islam. Harga reksadana cukup beragam, bahkan Anda bisa memulainya dari Rp100 ribu saja, sehingga cocok untuk pemula dengan modal kecil.\n",
            "\n",
            "Sukuk\n",
            "\n",
            "Sukuk adalah obligasi berupa efek berbentuk sekuritas aset dengan skema pengelolaan berdasarkan syariah Islam. Sukuk dibedakan menjadi sukuk negara yang diterbitkan oleh pemerintah dan sukuk korporasi yang diterbitkan oleh perusahaan swasta maupun BUMN.\n",
            "\n",
            "Saham Syariah\n",
            "\n",
            "Saham syariah dikenal sebagai salah satu investasi yang paling menguntungkan. Jenis investasi ini menerapkan konsep musyarakah, yakni penyertaan modal dengan bagi hasil untuk pihak yang terlibat. Oleh karena itu, dalam pengelolaannya tidak terdapat unsur riba.\n",
            "\n",
            "Deposito Syariah\n",
            "\n",
            "Deposito syariah merupakan produk simpanan berjangka yang dikelola dengan prinsip syariah. Instrumen ini menempatkan nasabah sebagai pemilik sekaligus pengelola dana. Nantinya, pembagian keuntungan ditentukan melalui akad mudharabah.\n",
            "\n",
            "Properti atau Tanah\n",
            "\n",
            "Properti dan tanah merupakan contoh investasi syariah yang paling menguntungkan karena harganya cenderung naik setiap tahun. Sebelum memilih aset, perhatikan lokasi, akses, dan resiko bencana karena akan berpengaruh pada stabilitas harga.\n",
            "\n",
            "Cara Perhitungan Bagi Hasil Investasi Syariah\n",
            "\n",
            "Dalam memudahkan Anda memahami tentang investasi ini, berikut contoh cara perhitungan bagi hasil pada instrumen saham syariah.\n",
            "\n",
            "Contoh\n",
            "\n",
            "Ali membeli saham milik PT. A sebesar Rp5.000.000 dengan harga per lot Rp10.000. Maka Ali memiliki 500 lot saham. Apabila Ali membeli dengan jumlah yang sama per bulan, maka dalam satu tahun Ali memiliki 6000 lot saham. Dalam kurun waktu satu tahun, harga saham PT. A naik menjadi Rp11.000 per lot.\n",
            "\n",
            "Dalam perhitungan ini, jumlah keuntungan akan dipengaruhi oleh biaya online trading sebesar 0,1%, pajak penjualan sebesar 0,1%, dan pajak dividen sebesar 10%. Berikut langkah-langkah perhitungannya.\n",
            "\n",
            "Totalkan lebih dulu harga per lot dengan jumlah lot yang dimiliki\n",
            "\n",
            "Rp11.000 X 6000 = Rp66.000.000 Kemudian tambahkan dengan dividen yang diterima, misalnya Rp500 ribu.\n",
            "\n",
            "Rp66.000.000 + Rp500.000 = Rp66.500.000 Nominal ini lalu dikurangi dengan biaya trading, pajak penghasilan dan pajak dividen Keuntungan\n",
            "\n",
            "= Rp66.500.000 – 0,1% - 0,1%- 10%\n",
            "\n",
            "= Rp66.500.000 – (0.2%x Rp60.000.000)- (10% x Rp500.000)\n",
            "\n",
            "= Rp66.500.000 - Rp120.000 - Rp50.000\n",
            "\n",
            "= Rp66.330.000\n",
            "\n",
            "Maka, keuntungan yang Anda dapatkan sebesar Rp66.330.000 – Rp60.000.000 (harga saham semula) yaitu Rp 6.330.000.\n",
            "\n",
            "Itulah penjelasan OCBC NISP tentang pengertian, jenis-jenis, syarat serta perbedaan investasi syariah dan konvensional. Setelah memahaminya, jangan ragu memulai investasi berikut sekarang juga dengan Deposito Syariah OCBC NISP untuk kelola keuangan berprinsip syariah.\n",
            "\n",
            "Baca Juga:\n"
          ]
        }
      ]
    },
    {
      "cell_type": "code",
      "metadata": {
        "id": "UBzb1FsREKr_"
      },
      "source": [
        "import re\n",
        "\n",
        "#replace the substrings di install"
      ],
      "execution_count": null,
      "outputs": []
    },
    {
      "cell_type": "markdown",
      "metadata": {
        "id": "6KQ3Or6fiKxv"
      },
      "source": [
        "# Proses 2 (Tokenization)"
      ]
    },
    {
      "cell_type": "code",
      "metadata": {
        "colab": {
          "base_uri": "https://localhost:8080/"
        },
        "id": "qsID-u6Gg012",
        "outputId": "602d730b-7d99-48fb-caa0-83b588aba89c"
      },
      "source": [
        "# Tokenization\n",
        "text = corpus\n",
        "sentence_list = nltk.sent_tokenize(text) #A list of senetences\n",
        "\n",
        "# Print the list of sentences\n",
        "print(sentence_list)"
      ],
      "execution_count": null,
      "outputs": [
        {
          "output_type": "stream",
          "name": "stdout",
          "text": [
            "['Ingin investasi nyaman dan berkah?', 'Coba saja investasi syariah.', 'Ekonomi syariah di Indonesia menunjukkan potensi yang semakin baik.', 'Hal ini dibuktikan dengan bertambah tingginya minat masyarakat terhadap produk investasi syariah dari tahun ke tahun.', 'Memiliki sistem yang berbeda dengan konvensional, investasi tersebut dilakukan dengan dasar dan ajaran agama Islam.', 'Selain mendapatkan keuntungan, praktek ekonomi ini memberikan ketenangan dan keberkahan tanpa melanggar ajaran agama.', 'Namun, sama halnya dengan konvensional, investasi syariah memiliki bermacam-macam jenis instrumen yang bisa Anda pilih.', 'Penasaran?', 'Yuk simak artikel berikut ini.', 'Pengertian Investasi Syariah\\n\\nInvestasi syariah adalah salah satu cara penanaman modal dengan tujuan meraih keuntungan sesuai syariah islam.', 'Prinsip hukum dan landasan operasional investasi ini bersumber dari Al-Qur’an, hadist, dan Fatwa Dewan Syariah Nasional (DSN) MUI.', 'Perbedaan Investasi Syariah dan Konvensional\\n\\nInvestasi ini memiliki karakteristik yang membedakannya dari investasi konvensional.', 'Berikut beberapa perbedaannya.', 'Menggunakan Sistem Bagi Hasil\\n\\nManajer investasi akan memberikan keuntungan melalui skema bagi hasil dengan rasio sesuai akad dan perjanjian.', 'Besarnya return terhadap kontrak investasi berbeda-beda tergantung pada kondisi bisnis investasi syariah yang dijalankan.', 'Ada Kesepakatan Untung dan Rugi\\n\\nTak hanya menyepakati persentase keuntungan, akad investasi juga bersepakat mengenai kerugian.', 'Dengan demikian, investor bisa mengetahui persentase kerugian yang harus Ia tanggung ketika usahanya merugi.', 'Sesuai dengan Syariat Islam\\n\\nInvestasi adalah kegiatan beresiko karena penuh dengan ketidakpastian.', 'Oleh karena itu, Islam memberi mekanisme syariah untuk menghindari riba, gharar (ketidakjelasan), dan maysir (judi) melalui kejelasan aliran dana dan pembagian untung-rugi dalam akad.', 'Syarat Investasi Syariah\\n\\nAgar dapat dikategorikan sebagai investasi syariah, suatu skema investasi harus memenuhi syarat-syarat sebagai berikut.', 'Objek Investasi Halal\\n\\nManajer investasi hanya boleh menempatkan dana investor pada bisnis-bisnis halal.', 'Hal ini karena Islam melarang investasi terhadap bisnis non-halal seperti perusahaan minuman keras, daging babi, narkoba, dan sebagainya.', 'Pengecekan dan Pembersihan Keuntungan\\n\\nSecara berkala, bank syariah melakukan pengecekan pada tiap bisnis yang didanai apakah masih beroperasi sesuai syariah Islam atau tidak.', 'Dengan demikian, bank dapat memastikan bahwa keuntungan yang diperoleh benar-benar “bersih”.', 'Disertai Akad Mudharabah dan Wakalah bil Ujrah\\n\\nAkad mudharabah berkaitan dengan pembagian untung-rugi sedangkan akad wakalah bil ujrah berkaitan dengan pelimpahan kekuasaan yang diberikan investor kepada manajer investasi untuk mengelola dananya sesuai syariah islam.', 'Jenis Investasi Syariah\\n\\nSebelum berinvestasi, Anda perlu menentukan produk investasi syariah yang sesuai dengan kebutuhan dan kondisi keuangan Anda.', 'Berikut ini jenis-jenis yang dapat Anda pilih.', 'Reksa Dana Syariah\\n\\nReksadana syariah merupakan jenis investasi yang dikelola oleh manajer investasi dalam bentuk produk pasar uang, obligasi, atau saham dan harus sesuai dengan prinsip Islam.', 'Harga reksadana cukup beragam, bahkan Anda bisa memulainya dari Rp100 ribu saja, sehingga cocok untuk pemula dengan modal kecil.', 'Sukuk\\n\\nSukuk adalah obligasi berupa efek berbentuk sekuritas aset dengan skema pengelolaan berdasarkan syariah Islam.', 'Sukuk dibedakan menjadi sukuk negara yang diterbitkan oleh pemerintah dan sukuk korporasi yang diterbitkan oleh perusahaan swasta maupun BUMN.', 'Saham Syariah\\n\\nSaham syariah dikenal sebagai salah satu investasi yang paling menguntungkan.', 'Jenis investasi ini menerapkan konsep musyarakah, yakni penyertaan modal dengan bagi hasil untuk pihak yang terlibat.', 'Oleh karena itu, dalam pengelolaannya tidak terdapat unsur riba.', 'Deposito Syariah\\n\\nDeposito syariah merupakan produk simpanan berjangka yang dikelola dengan prinsip syariah.', 'Instrumen ini menempatkan nasabah sebagai pemilik sekaligus pengelola dana.', 'Nantinya, pembagian keuntungan ditentukan melalui akad mudharabah.', 'Properti atau Tanah\\n\\nProperti dan tanah merupakan contoh investasi syariah yang paling menguntungkan karena harganya cenderung naik setiap tahun.', 'Sebelum memilih aset, perhatikan lokasi, akses, dan resiko bencana karena akan berpengaruh pada stabilitas harga.', 'Cara Perhitungan Bagi Hasil Investasi Syariah\\n\\nDalam memudahkan Anda memahami tentang investasi ini, berikut contoh cara perhitungan bagi hasil pada instrumen saham syariah.', 'Contoh\\n\\nAli membeli saham milik PT.', 'A sebesar Rp5.000.000 dengan harga per lot Rp10.000.', 'Maka Ali memiliki 500 lot saham.', 'Apabila Ali membeli dengan jumlah yang sama per bulan, maka dalam satu tahun Ali memiliki 6000 lot saham.', 'Dalam kurun waktu satu tahun, harga saham PT.', 'A naik menjadi Rp11.000 per lot.', 'Dalam perhitungan ini, jumlah keuntungan akan dipengaruhi oleh biaya online trading sebesar 0,1%, pajak penjualan sebesar 0,1%, dan pajak dividen sebesar 10%.', 'Berikut langkah-langkah perhitungannya.', 'Totalkan lebih dulu harga per lot dengan jumlah lot yang dimiliki\\n\\nRp11.000 X 6000 = Rp66.000.000 Kemudian tambahkan dengan dividen yang diterima, misalnya Rp500 ribu.', 'Rp66.000.000 + Rp500.000 = Rp66.500.000 Nominal ini lalu dikurangi dengan biaya trading, pajak penghasilan dan pajak dividen Keuntungan\\n\\n= Rp66.500.000 – 0,1% - 0,1%- 10%\\n\\n= Rp66.500.000 – (0.2%x Rp60.000.000)- (10% x Rp500.000)\\n\\n= Rp66.500.000 - Rp120.000 - Rp50.000\\n\\n= Rp66.330.000\\n\\nMaka, keuntungan yang Anda dapatkan sebesar Rp66.330.000 – Rp60.000.000 (harga saham semula) yaitu Rp 6.330.000.', 'Itulah penjelasan OCBC NISP tentang pengertian, jenis-jenis, syarat serta perbedaan investasi syariah dan konvensional.', 'Setelah memahaminya, jangan ragu memulai investasi berikut sekarang juga dengan Deposito Syariah OCBC NISP untuk kelola keuangan berprinsip syariah.', 'Baca Juga:']\n"
          ]
        }
      ]
    },
    {
      "cell_type": "code",
      "metadata": {
        "id": "kA6jrNRrFIA5"
      },
      "source": [
        "TEXT_CLEANING_RE = \"@#=-_\\S+|https?:\\S+http?\\S|{^A-Za-z}+\"\n",
        "\n",
        "def preprocessing(tweet):\n",
        "  tweet = re.sub(TEXT_CLEANING-RE,'', str(tweet).lowe()).strip()\n",
        "  tokens = []\n",
        "  for token in tweet.split():\n",
        "    if token not in tampStoplist:\n",
        "      token = stemmer.stem(token)\n",
        "      tokens.append(token)\n",
        "  return \" \".join(tokens)"
      ],
      "execution_count": null,
      "outputs": []
    },
    {
      "cell_type": "code",
      "metadata": {
        "id": "lYvkaKOHiia2"
      },
      "source": [
        "#a function to return a random greeting response to a users greeting\n",
        "def greeting_response(text):\n",
        "    text = text.lower()\n",
        "    \n",
        "    #Bots greeting respone\n",
        "    bot_greetings = ['halo','hai','yuhuu','*eyebrows up*']\n",
        "    \n",
        "    #Users greeting\n",
        "    user_greetings = ['Haloo','Eh iyaa Haii','Hai','greetings','wassup']\n",
        "    \n",
        "    for word in text.split():\n",
        "        if word in user_greetings:\n",
        "            return random.choice(bot_greetings)\n",
        "        \n",
        "    #Random response to greeting\n",
        "    def gratitude_response(text):\n",
        "        text=text.lower()\n",
        "   \n"
      ],
      "execution_count": null,
      "outputs": []
    },
    {
      "cell_type": "code",
      "metadata": {
        "id": "TZU6BZB3iia7"
      },
      "source": [
        " def index_sort(list_var):\n",
        "    length = len(list_var)\n",
        "    list_index = list(range(0, length))\n",
        "    \n",
        "    x = list_var        \n",
        "    for i in range(length):\n",
        "        for j in range(length):\n",
        "            if x[list_index[i]] > x[list_index[j]]:\n",
        "                #swap\n",
        "                temp = list_index[i]\n",
        "                list_index[i] = list_index[j]\n",
        "                list_index[j] = temp\n",
        "                \n",
        "    return list_index"
      ],
      "execution_count": null,
      "outputs": []
    },
    {
      "cell_type": "code",
      "metadata": {
        "id": "jgD-wmTwiia7"
      },
      "source": [
        "# Creat Bots Response\n",
        "def bot_response(user_input):\n",
        "    user_input=user_input.lower()\n",
        "    sentence_list.append(user_input)\n",
        "    bot_response= ''\n",
        "    cm=CountVectorizer().fit_transform(sentence_list)\n",
        "    similarity_scores=cosine_similarity(cm[-1],cm)\n",
        "    similarity_scores_list=similarity_scores.flatten()\n",
        "    index=index_sort(similarity_scores_list)\n",
        "    index=index[1:]\n",
        "    response_flag=0\n",
        "    \n",
        "    j=0\n",
        "    for i in range(len(index)):\n",
        "        if similarity_scores_list[index[i]]>0.0:\n",
        "            bot_response=bot_response+' '+sentence_list[index[i]]\n",
        "            response_flag=1\n",
        "            j=j+1\n",
        "        if j>2:\n",
        "            break\n",
        "\n",
        "        if response_flag==0:\n",
        "            bot_response=bot_response+\" \"+\"I apologize, I dont understand\"\n",
        "\n",
        "        sentence_list.remove(user_input) \n",
        "\n",
        "        return bot_response"
      ],
      "execution_count": null,
      "outputs": []
    },
    {
      "cell_type": "markdown",
      "metadata": {
        "id": "PVF_g7Xyiia8"
      },
      "source": [
        "# Proses 4 (End Process, Making chat box)"
      ]
    },
    {
      "cell_type": "code",
      "metadata": {
        "id": "uwEG2roFLuLQ"
      },
      "source": [
        ""
      ],
      "execution_count": null,
      "outputs": []
    },
    {
      "cell_type": "code",
      "metadata": {
        "colab": {
          "base_uri": "https://localhost:8080/"
        },
        "id": "knRbg2R0iia8",
        "outputId": "a9a60ecd-6358-483b-9471-851aeb012a98"
      },
      "source": [
        "#Start Chat\n",
        "print(\"Doc Bot: Apa saja yang kamu ingin tahu dari investasi syariah\")\n",
        "\n",
        "exit_list=['exit','bye','keluar','quit', 'sampai jumpa','terimakasih']\n",
        "\n",
        "while(True):\n",
        "    user_input=input()\n",
        "    if user_input.lower() in exit_list:\n",
        "        print('Doc Bot: Bye Bye Sampai jumpa lagi')\n",
        "        break\n",
        "    else:\n",
        "        if greeting_response(user_input)!= None:\n",
        "            print('Doc Bot: '+ greeting_response(user_input))\n",
        "        else:\n",
        "            print('Doc Bot: '+ bot_response(user_input))"
      ],
      "execution_count": null,
      "outputs": [
        {
          "output_type": "stream",
          "name": "stdout",
          "text": [
            "Doc Bot: Apa saja yang kamu ingin tahu dari investasi syariah\n",
            "apa itu sekuk\n",
            "Doc Bot:  Oleh karena itu, dalam pengelolaannya tidak terdapat unsur riba.\n",
            "sekuk adalah\n",
            "Doc Bot:  Sesuai dengan Syariat Islam\n",
            "\n",
            "Investasi adalah kegiatan beresiko karena penuh dengan ketidakpastian.\n",
            "investasi yang ada dalam islam\n",
            "Doc Bot:  Reksa Dana Syariah\n",
            "\n",
            "Reksadana syariah merupakan jenis investasi yang dikelola oleh manajer investasi dalam bentuk produk pasar uang, obligasi, atau saham dan harus sesuai dengan prinsip Islam.\n",
            "terimakasih\n",
            "Doc Bot: Bye Bye Sampai jumpa lagi\n"
          ]
        }
      ]
    },
    {
      "cell_type": "code",
      "metadata": {
        "id": "H8psLH5Ji4ng"
      },
      "source": [
        "#'Ingin investasi nyaman dan berkah?', '\n",
        "#Coba saja investasi syariah.', \n",
        "#'Ekonomi syariah di Indonesia menunjukkan potensi yang semakin baik.', \n",
        "#'Hal ini dibuktikan dengan bertambah tingginya minat masyarakat terhadap produk investasi syariah dari tahun ke tahun.', \n",
        "#'Memiliki sistem yang berbeda dengan konvensional, investasi tersebut dilakukan dengan dasar dan ajaran agama Islam.', \n",
        "#'Selain mendapatkan keuntungan, praktek ekonomi ini memberikan ketenangan dan keberkahan tanpa melanggar ajaran agama.', \n",
        "#'Namun, sama halnya dengan konvensional, investasi syariah memiliki bermacam-macam jenis instrumen yang bisa Anda pilih.', \n",
        "#'Penasaran?', 'Yuk simak artikel berikut ini.', \n",
        "#'Pengertian Investasi Syariah\\n\\nInvestasi syariah adalah salah satu cara penanaman modal dengan tujuan meraih keuntungan sesuai syariah islam.', \n",
        "#'Prinsip hukum dan landasan operasional investasi ini bersumber dari Al-Qur’an, hadist, dan Fatwa Dewan Syariah Nasional (DSN) MUI.', \n",
        "#'Perbedaan Investasi Syariah dan Konvensional\\n\\nInvestasi ini memiliki karakteristik yang membedakannya dari investasi konvensional.', \n",
        "#'Berikut beberapa perbedaannya.', \n",
        "#'Menggunakan Sistem Bagi Hasil\\n\\nManajer investasi akan memberikan keuntungan melalui skema bagi hasil dengan rasio sesuai akad dan perjanjian.', \n",
        "#'Besarnya return terhadap kontrak investasi berbeda-beda tergantung pada kondisi bisnis investasi syariah yang dijalankan.', \n",
        "#'Ada Kesepakatan Untung dan Rugi\\n\\nTak hanya menyepakati persentase keuntungan, akad investasi juga bersepakat mengenai kerugian.', \n",
        "#'Dengan demikian, investor bisa mengetahui persentase kerugian yang harus Ia tanggung ketika usahanya merugi.', \n",
        "#'Sesuai dengan Syariat Islam\\n\\nInvestasi adalah kegiatan beresiko karena penuh dengan ketidakpastian.', \n",
        "#'Oleh karena itu, Islam memberi mekanisme syariah untuk menghindari riba, gharar (ketidakjelasan), dan maysir (judi) melalui kejelasan aliran dana dan pembagian untung-rugi dalam akad.', \n",
        "#'Syarat Investasi Syariah\\n\\nAgar dapat dikategorikan sebagai investasi syariah, suatu skema investasi harus memenuhi syarat-syarat sebagai berikut.', \n",
        "#'Objek Investasi Halal\\n\\nManajer investasi hanya boleh menempatkan dana investor pada bisnis-bisnis halal.', \n",
        "#'Hal ini karena Islam melarang investasi terhadap bisnis non-halal seperti perusahaan minuman keras, daging babi, narkoba, dan sebagainya.', \n",
        "#'Pengecekan dan Pembersihan Keuntungan\\n\\nSecara berkala, bank syariah melakukan pengecekan pada tiap bisnis yang didanai apakah masih beroperasi sesuai syariah Islam atau tidak.', \n",
        "#'Dengan demikian, bank dapat memastikan bahwa keuntungan yang diperoleh benar-benar “bersih”.', \n",
        "#'Disertai Akad Mudharabah dan Wakalah bil Ujrah\\n\\nAkad mudharabah berkaitan dengan pembagian untung-rugi sedangkan akad wakalah bil ujrah berkaitan dengan pelimpahan kekuasaan yang diberikan investor kepada manajer investasi untuk mengelola dananya sesuai syariah islam.', \n",
        "#'Jenis Investasi Syariah\\n\\nSebelum berinvestasi, Anda perlu menentukan produk investasi syariah yang sesuai dengan kebutuhan dan kondisi keuangan Anda.', \n",
        "#'Berikut ini jenis-jenis yang dapat Anda pilih.', \n",
        "#'Reksa Dana Syariah\\n\\nReksadana syariah merupakan jenis investasi yang dikelola oleh manajer investasi dalam bentuk produk pasar uang, obligasi, atau saham dan harus sesuai dengan prinsip Islam.', \n",
        "#'Harga reksadana cukup beragam, bahkan Anda bisa memulainya dari Rp100 ribu saja, sehingga cocok untuk pemula dengan modal kecil.', \n",
        "#'Sukuk\\n\\nSukuk adalah obligasi berupa efek berbentuk sekuritas aset dengan skema pengelolaan berdasarkan syariah Islam.', \n",
        "#'Sukuk dibedakan menjadi sukuk negara yang diterbitkan oleh pemerintah dan sukuk korporasi yang diterbitkan oleh perusahaan swasta maupun BUMN.', \n",
        "#'Saham Syariah\\n\\nSaham syariah dikenal sebagai salah satu investasi yang paling menguntungkan.', \n",
        "#'Jenis investasi ini menerapkan konsep musyarakah, yakni penyertaan modal dengan bagi hasil untuk pihak yang terlibat.', \n",
        "#'Oleh karena itu, dalam pengelolaannya tidak terdapat unsur riba.', \n",
        "#'Deposito Syariah\\n\\nDeposito syariah merupakan produk simpanan berjangka yang dikelola dengan prinsip syariah.', \n",
        "#'Instrumen ini menempatkan nasabah sebagai pemilik sekaligus pengelola dana.', \n",
        "#'Nantinya, pembagian keuntungan ditentukan melalui akad mudharabah.', \n",
        "#'Properti atau Tanah\\n\\nProperti dan tanah merupakan contoh investasi syariah yang paling menguntungkan karena harganya cenderung naik setiap tahun.', \n",
        "#'Sebelum memilih aset, perhatikan lokasi, akses, dan resiko bencana karena akan berpengaruh pada stabilitas harga.', \n",
        "#'Cara Perhitungan Bagi Hasil Investasi Syariah\\n\\nDalam memudahkan Anda memahami tentang investasi ini, berikut contoh cara perhitungan bagi hasil pada instrumen saham syariah.', \n",
        "#'Contoh\\n\\nAli membeli saham milik PT.', \n",
        "#'A sebesar Rp5.000.000 dengan harga per lot Rp10.000.', \n",
        "#'Maka Ali memiliki 500 lot saham.', \n",
        "#'Apabila Ali membeli dengan jumlah yang sama per bulan, maka dalam satu tahun Ali memiliki 6000 lot saham.', \n",
        "#'Dalam kurun waktu satu tahun, harga saham PT.', \n",
        "#'A naik menjadi Rp11.000 per lot.', \n",
        "#'Dalam perhitungan ini, jumlah keuntungan akan dipengaruhi oleh biaya online trading sebesar 0,1%, pajak penjualan sebesar 0,1%, dan pajak dividen sebesar 10%.', \n",
        "#'Berikut langkah-langkah perhitungannya.', \n",
        "#'Totalkan lebih dulu harga per lot dengan jumlah lot yang dimiliki\\n\\nRp11.000 X 6000 = Rp66.000.000 Kemudian tambahkan dengan dividen yang diterima, misalnya Rp500 ribu.', 'Rp66.000.000 + Rp500.000 = Rp66.500.000 Nominal ini lalu dikurangi dengan biaya trading, pajak penghasilan dan pajak dividen Keuntungan\\n\\n= Rp66.500.000 – 0,1% - 0,1%- 10%\\n\\n= Rp66.500.000 – (0.2%x Rp60.000.000)- (10% x Rp500.000)\\n\\n= Rp66.500.000 - Rp120.000 - Rp50.000\\n\\n= Rp66.330.000\\n\\nMaka, keuntungan yang Anda dapatkan sebesar Rp66.330.000 – Rp60.000.000 (harga saham semula) yaitu Rp 6.330.000.', 'Itulah penjelasan OCBC NISP tentang pengertian, jenis-jenis, syarat serta perbedaan investasi syariah dan konvensional.', \n",
        "#Setelah memahaminya, jangan ragu memulai investasi berikut sekarang juga dengan Deposito Syariah OCBC NISP untuk kelola keuangan berprinsip syariah."
      ],
      "execution_count": null,
      "outputs": []
    },
    {
      "cell_type": "markdown",
      "metadata": {
        "id": "EkRnhoT3Z3_5"
      },
      "source": [
        "##Input pertanyaan\n",
        "\n",
        "Pertanyaan yang di input bisa berupa pertanyaan yang bersangkutan dengan transaksi syariah dan terkait investasi serta hukum investasi syariah.\n",
        "Bot juga bisa menjawab isu terkait"
      ]
    }
  ]
}